{
  "nbformat": 4,
  "nbformat_minor": 0,
  "metadata": {
    "colab": {
      "name": "Deep Learning.ipynb",
      "provenance": [],
      "collapsed_sections": [],
      "authorship_tag": "ABX9TyNWngvK6iD4mdV7AjVZGajk",
      "include_colab_link": true
    },
    "kernelspec": {
      "name": "python3",
      "display_name": "Python 3"
    },
    "language_info": {
      "name": "python"
    }
  },
  "cells": [
    {
      "cell_type": "markdown",
      "metadata": {
        "id": "view-in-github",
        "colab_type": "text"
      },
      "source": [
        "<a href=\"https://colab.research.google.com/github/artbbs/Python/blob/main/Deep_Learning.ipynb\" target=\"_parent\"><img src=\"https://colab.research.google.com/assets/colab-badge.svg\" alt=\"Open In Colab\"/></a>"
      ]
    },
    {
      "cell_type": "code",
      "execution_count": 2,
      "metadata": {
        "id": "u3peDhRZGI_z"
      },
      "outputs": [],
      "source": [
        "#PRÉ-PROCESSAMENTO DOS DADOS PARA REDES NEURAIS"
      ]
    },
    {
      "cell_type": "code",
      "source": [
        "#Carregar as Bibliotecas\n",
        "from sklearn import preprocessing\n",
        "import numpy as np"
      ],
      "metadata": {
        "id": "RoBJxB7cG3TV"
      },
      "execution_count": 3,
      "outputs": []
    },
    {
      "cell_type": "code",
      "source": [
        "#Criar atributo\n",
        "features = np.array([[-100.1, 3240.1],\n",
        "                     [-200.2, -234.1],\n",
        "                     [5000.5, 150.1],\n",
        "                     [6000.6, -125.1],\n",
        "                     [9000.9, -673.1]])"
      ],
      "metadata": {
        "id": "eY5c1IYjHnwx"
      },
      "execution_count": 4,
      "outputs": []
    },
    {
      "cell_type": "code",
      "source": [
        ""
      ],
      "metadata": {
        "id": "rNqrDHjAIOKS"
      },
      "execution_count": null,
      "outputs": []
    }
  ]
}