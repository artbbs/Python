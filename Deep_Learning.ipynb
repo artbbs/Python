{
  "nbformat": 4,
  "nbformat_minor": 0,
  "metadata": {
    "colab": {
      "name": "Deep Learning.ipynb",
      "provenance": [],
      "collapsed_sections": [],
      "authorship_tag": "ABX9TyPz2RlF+ZnTjyJr1YhSTVmv",
      "include_colab_link": true
    },
    "kernelspec": {
      "name": "python3",
      "display_name": "Python 3"
    },
    "language_info": {
      "name": "python"
    }
  },
  "cells": [
    {
      "cell_type": "markdown",
      "metadata": {
        "id": "view-in-github",
        "colab_type": "text"
      },
      "source": [
        "<a href=\"https://colab.research.google.com/github/artbbs/Python/blob/main/Deep_Learning.ipynb\" target=\"_parent\"><img src=\"https://colab.research.google.com/assets/colab-badge.svg\" alt=\"Open In Colab\"/></a>"
      ]
    },
    {
      "cell_type": "code",
      "execution_count": 2,
      "metadata": {
        "id": "u3peDhRZGI_z"
      },
      "outputs": [],
      "source": [
        "#PRÉ-PROCESSAMENTO DOS DADOS PARA REDES NEURAIS"
      ]
    },
    {
      "cell_type": "code",
      "source": [
        "#Carregar as Bibliotecas"
      ],
      "metadata": {
        "id": "RoBJxB7cG3TV"
      },
      "execution_count": null,
      "outputs": []
    }
  ]
}